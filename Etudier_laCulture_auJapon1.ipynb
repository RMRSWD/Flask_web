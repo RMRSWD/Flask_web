{
  "nbformat": 4,
  "nbformat_minor": 0,
  "metadata": {
    "colab": {
      "name": "Etudier_le_Japon .ipynb",
      "provenance": [],
      "authorship_tag": "ABX9TyPaXOx5roNxldX7cTkvnjbd",
      "include_colab_link": true
    },
    "kernelspec": {
      "name": "python3",
      "display_name": "Python 3"
    },
    "language_info": {
      "name": "python"
    }
  },
  "cells": [
    {
      "cell_type": "markdown",
      "metadata": {
        "id": "view-in-github",
        "colab_type": "text"
      },
      "source": [
        "<a href=\"https://colab.research.google.com/github/davidvu989/Flask_web/blob/master/Etudier_laCulture_auJapon1.ipynb\" target=\"_parent\"><img src=\"https://colab.research.google.com/assets/colab-badge.svg\" alt=\"Open In Colab\"/></a>"
      ]
    },
    {
      "cell_type": "code",
      "metadata": {
        "colab": {
          "base_uri": "https://localhost:8080/"
        },
        "id": "3yoUZjscCsHp",
        "outputId": "094fa838-82e9-4f24-aa65-796f42d520bb"
      },
      "source": [
        "!git clone https://github.com/conanak99/jav-py.git"
      ],
      "execution_count": null,
      "outputs": [
        {
          "output_type": "stream",
          "text": [
            "fatal: destination path 'jav-py' already exists and is not an empty directory.\n"
          ],
          "name": "stdout"
        }
      ]
    },
    {
      "cell_type": "code",
      "metadata": {
        "id": "Ov8_bEz5C80R"
      },
      "source": [
        "import pandas as pd #ham chua nhieu cong cu de analysée data\n",
        "import warnings \n",
        "warnings.filterwarnings('ignore')\n",
        "import seaborn as sns # dung de ve bieu do (dep hon)\n",
        "import matplotlib.pyplot as plt #(cung dung de ve bieu do)\n",
        "\n"
      ],
      "execution_count": null,
      "outputs": []
    },
    {
      "cell_type": "code",
      "metadata": {
        "colab": {
          "base_uri": "https://localhost:8080/",
          "height": 204
        },
        "id": "GBcR2DExDd1N",
        "outputId": "eaa95976-90c9-4159-c438-1ee96a622161"
      },
      "source": [
        "actress = pd.read_json(\"jav-py/acctress.json\") # doc file json\n",
        "actress.head() #hien thi 1 vai ten trong danh sach"
      ],
      "execution_count": null,
      "outputs": [
        {
          "output_type": "execute_result",
          "data": {
            "text/html": [
              "<div>\n",
              "<style scoped>\n",
              "    .dataframe tbody tr th:only-of-type {\n",
              "        vertical-align: middle;\n",
              "    }\n",
              "\n",
              "    .dataframe tbody tr th {\n",
              "        vertical-align: top;\n",
              "    }\n",
              "\n",
              "    .dataframe thead th {\n",
              "        text-align: right;\n",
              "    }\n",
              "</style>\n",
              "<table border=\"1\" class=\"dataframe\">\n",
              "  <thead>\n",
              "    <tr style=\"text-align: right;\">\n",
              "      <th></th>\n",
              "      <th>id</th>\n",
              "      <th>name</th>\n",
              "      <th>japanName</th>\n",
              "      <th>hiragana</th>\n",
              "      <th>bust</th>\n",
              "      <th>waist</th>\n",
              "      <th>hip</th>\n",
              "      <th>height</th>\n",
              "      <th>birthday</th>\n",
              "      <th>blood_type</th>\n",
              "      <th>hobby</th>\n",
              "      <th>prefectures</th>\n",
              "    </tr>\n",
              "  </thead>\n",
              "  <tbody>\n",
              "    <tr>\n",
              "      <th>0</th>\n",
              "      <td>3</td>\n",
              "      <td>Kitagawa Yui</td>\n",
              "      <td>北川ゆい</td>\n",
              "      <td>きたがわゆい</td>\n",
              "      <td>95.0</td>\n",
              "      <td>60.0</td>\n",
              "      <td>88.0</td>\n",
              "      <td>NaN</td>\n",
              "      <td>1980-12-14</td>\n",
              "      <td>AB</td>\n",
              "      <td>クラシックバレエ</td>\n",
              "      <td>None</td>\n",
              "    </tr>\n",
              "    <tr>\n",
              "      <th>1</th>\n",
              "      <td>4</td>\n",
              "      <td>Akira</td>\n",
              "      <td>Akira</td>\n",
              "      <td>あきら</td>\n",
              "      <td>90.0</td>\n",
              "      <td>58.0</td>\n",
              "      <td>86.0</td>\n",
              "      <td>157.0</td>\n",
              "      <td>1978-08-15</td>\n",
              "      <td>A</td>\n",
              "      <td>水泳、ゴルフ</td>\n",
              "      <td>東京都</td>\n",
              "    </tr>\n",
              "    <tr>\n",
              "      <th>2</th>\n",
              "      <td>6</td>\n",
              "      <td>Cocolo</td>\n",
              "      <td>COCOLO</td>\n",
              "      <td>こころ</td>\n",
              "      <td>96.0</td>\n",
              "      <td>55.0</td>\n",
              "      <td>85.0</td>\n",
              "      <td>168.0</td>\n",
              "      <td>1982-07-07</td>\n",
              "      <td>B</td>\n",
              "      <td>パソコン</td>\n",
              "      <td>茨城県</td>\n",
              "    </tr>\n",
              "    <tr>\n",
              "      <th>3</th>\n",
              "      <td>8</td>\n",
              "      <td>Saiko</td>\n",
              "      <td>Saiko</td>\n",
              "      <td>さいこ</td>\n",
              "      <td>80.0</td>\n",
              "      <td>59.0</td>\n",
              "      <td>82.0</td>\n",
              "      <td>162.0</td>\n",
              "      <td>1983-04-12</td>\n",
              "      <td>O</td>\n",
              "      <td>料理、大食い</td>\n",
              "      <td>東京都</td>\n",
              "    </tr>\n",
              "    <tr>\n",
              "      <th>4</th>\n",
              "      <td>11</td>\n",
              "      <td>Aida Momo</td>\n",
              "      <td>あいだもも</td>\n",
              "      <td>あいだもも</td>\n",
              "      <td>82.0</td>\n",
              "      <td>55.0</td>\n",
              "      <td>89.0</td>\n",
              "      <td>162.0</td>\n",
              "      <td>1970-06-18</td>\n",
              "      <td>A</td>\n",
              "      <td>エアロビクス</td>\n",
              "      <td>東京都</td>\n",
              "    </tr>\n",
              "  </tbody>\n",
              "</table>\n",
              "</div>"
            ],
            "text/plain": [
              "   id          name japanName  ... blood_type     hobby  prefectures\n",
              "0   3  Kitagawa Yui      北川ゆい  ...         AB  クラシックバレエ         None\n",
              "1   4         Akira     Akira  ...          A    水泳、ゴルフ          東京都\n",
              "2   6        Cocolo    COCOLO  ...          B      パソコン          茨城県\n",
              "3   8         Saiko     Saiko  ...          O    料理、大食い          東京都\n",
              "4  11     Aida Momo     あいだもも  ...          A    エアロビクス          東京都\n",
              "\n",
              "[5 rows x 12 columns]"
            ]
          },
          "metadata": {
            "tags": []
          },
          "execution_count": 10
        }
      ]
    },
    {
      "cell_type": "code",
      "metadata": {
        "colab": {
          "base_uri": "https://localhost:8080/"
        },
        "id": "6zoiKngIEwuj",
        "outputId": "bc6f90a6-52db-416a-eae9-ef01ea963ad9"
      },
      "source": [
        "actress.info() # trich xuat toan bo du lieu"
      ],
      "execution_count": null,
      "outputs": [
        {
          "output_type": "stream",
          "text": [
            "<class 'pandas.core.frame.DataFrame'>\n",
            "RangeIndex: 11186 entries, 0 to 11185\n",
            "Data columns (total 12 columns):\n",
            " #   Column       Non-Null Count  Dtype  \n",
            "---  ------       --------------  -----  \n",
            " 0   id           11186 non-null  int64  \n",
            " 1   name         11186 non-null  object \n",
            " 2   japanName    11186 non-null  object \n",
            " 3   hiragana     11186 non-null  object \n",
            " 4   bust         6456 non-null   float64\n",
            " 5   waist        6436 non-null   float64\n",
            " 6   hip          6428 non-null   float64\n",
            " 7   height       5012 non-null   float64\n",
            " 8   birthday     4031 non-null   object \n",
            " 9   blood_type   3171 non-null   object \n",
            " 10  hobby        3730 non-null   object \n",
            " 11  prefectures  4471 non-null   object \n",
            "dtypes: float64(4), int64(1), object(7)\n",
            "memory usage: 1.0+ MB\n"
          ],
          "name": "stdout"
        }
      ]
    },
    {
      "cell_type": "code",
      "metadata": {
        "id": "4U3NNCjzFib5"
      },
      "source": [
        "# tinh toan xu ly va ve bieu do tuoi\n",
        "actress['birthday'] = pd.to_datetime(actress['birthday'], yearfirst = True)\n",
        "actress['age'] = 2021 - pd.DatetimeIndex(actress['birthday']).year "
      ],
      "execution_count": null,
      "outputs": []
    },
    {
      "cell_type": "code",
      "metadata": {
        "colab": {
          "base_uri": "https://localhost:8080/",
          "height": 204
        },
        "id": "o5FgAbMvFaBo",
        "outputId": "698fefc8-f138-4db3-8644-b243434267a8"
      },
      "source": [
        "actress .head()"
      ],
      "execution_count": null,
      "outputs": [
        {
          "output_type": "execute_result",
          "data": {
            "text/html": [
              "<div>\n",
              "<style scoped>\n",
              "    .dataframe tbody tr th:only-of-type {\n",
              "        vertical-align: middle;\n",
              "    }\n",
              "\n",
              "    .dataframe tbody tr th {\n",
              "        vertical-align: top;\n",
              "    }\n",
              "\n",
              "    .dataframe thead th {\n",
              "        text-align: right;\n",
              "    }\n",
              "</style>\n",
              "<table border=\"1\" class=\"dataframe\">\n",
              "  <thead>\n",
              "    <tr style=\"text-align: right;\">\n",
              "      <th></th>\n",
              "      <th>id</th>\n",
              "      <th>name</th>\n",
              "      <th>japanName</th>\n",
              "      <th>hiragana</th>\n",
              "      <th>bust</th>\n",
              "      <th>waist</th>\n",
              "      <th>hip</th>\n",
              "      <th>height</th>\n",
              "      <th>birthday</th>\n",
              "      <th>blood_type</th>\n",
              "      <th>hobby</th>\n",
              "      <th>prefectures</th>\n",
              "      <th>age</th>\n",
              "    </tr>\n",
              "  </thead>\n",
              "  <tbody>\n",
              "    <tr>\n",
              "      <th>0</th>\n",
              "      <td>3</td>\n",
              "      <td>Kitagawa Yui</td>\n",
              "      <td>北川ゆい</td>\n",
              "      <td>きたがわゆい</td>\n",
              "      <td>95.0</td>\n",
              "      <td>60.0</td>\n",
              "      <td>88.0</td>\n",
              "      <td>NaN</td>\n",
              "      <td>1980-12-14</td>\n",
              "      <td>AB</td>\n",
              "      <td>クラシックバレエ</td>\n",
              "      <td>None</td>\n",
              "      <td>41.0</td>\n",
              "    </tr>\n",
              "    <tr>\n",
              "      <th>1</th>\n",
              "      <td>4</td>\n",
              "      <td>Akira</td>\n",
              "      <td>Akira</td>\n",
              "      <td>あきら</td>\n",
              "      <td>90.0</td>\n",
              "      <td>58.0</td>\n",
              "      <td>86.0</td>\n",
              "      <td>157.0</td>\n",
              "      <td>1978-08-15</td>\n",
              "      <td>A</td>\n",
              "      <td>水泳、ゴルフ</td>\n",
              "      <td>東京都</td>\n",
              "      <td>43.0</td>\n",
              "    </tr>\n",
              "    <tr>\n",
              "      <th>2</th>\n",
              "      <td>6</td>\n",
              "      <td>Cocolo</td>\n",
              "      <td>COCOLO</td>\n",
              "      <td>こころ</td>\n",
              "      <td>96.0</td>\n",
              "      <td>55.0</td>\n",
              "      <td>85.0</td>\n",
              "      <td>168.0</td>\n",
              "      <td>1982-07-07</td>\n",
              "      <td>B</td>\n",
              "      <td>パソコン</td>\n",
              "      <td>茨城県</td>\n",
              "      <td>39.0</td>\n",
              "    </tr>\n",
              "    <tr>\n",
              "      <th>3</th>\n",
              "      <td>8</td>\n",
              "      <td>Saiko</td>\n",
              "      <td>Saiko</td>\n",
              "      <td>さいこ</td>\n",
              "      <td>80.0</td>\n",
              "      <td>59.0</td>\n",
              "      <td>82.0</td>\n",
              "      <td>162.0</td>\n",
              "      <td>1983-04-12</td>\n",
              "      <td>O</td>\n",
              "      <td>料理、大食い</td>\n",
              "      <td>東京都</td>\n",
              "      <td>38.0</td>\n",
              "    </tr>\n",
              "    <tr>\n",
              "      <th>4</th>\n",
              "      <td>11</td>\n",
              "      <td>Aida Momo</td>\n",
              "      <td>あいだもも</td>\n",
              "      <td>あいだもも</td>\n",
              "      <td>82.0</td>\n",
              "      <td>55.0</td>\n",
              "      <td>89.0</td>\n",
              "      <td>162.0</td>\n",
              "      <td>1970-06-18</td>\n",
              "      <td>A</td>\n",
              "      <td>エアロビクス</td>\n",
              "      <td>東京都</td>\n",
              "      <td>51.0</td>\n",
              "    </tr>\n",
              "  </tbody>\n",
              "</table>\n",
              "</div>"
            ],
            "text/plain": [
              "   id          name japanName hiragana  ...  blood_type     hobby  prefectures   age\n",
              "0   3  Kitagawa Yui      北川ゆい   きたがわゆい  ...          AB  クラシックバレエ         None  41.0\n",
              "1   4         Akira     Akira      あきら  ...           A    水泳、ゴルフ          東京都  43.0\n",
              "2   6        Cocolo    COCOLO      こころ  ...           B      パソコン          茨城県  39.0\n",
              "3   8         Saiko     Saiko      さいこ  ...           O    料理、大食い          東京都  38.0\n",
              "4  11     Aida Momo     あいだもも    あいだもも  ...           A    エアロビクス          東京都  51.0\n",
              "\n",
              "[5 rows x 13 columns]"
            ]
          },
          "metadata": {
            "tags": []
          },
          "execution_count": 14
        }
      ]
    },
    {
      "cell_type": "code",
      "metadata": {
        "colab": {
          "base_uri": "https://localhost:8080/"
        },
        "id": "DfYP6niDITHs",
        "outputId": "82bfd660-fa2b-42c6-d6e3-3480d7a5a08d"
      },
      "source": [
        "actress.age.min()"
      ],
      "execution_count": null,
      "outputs": [
        {
          "output_type": "execute_result",
          "data": {
            "text/plain": [
              "20.0"
            ]
          },
          "metadata": {
            "tags": []
          },
          "execution_count": 15
        }
      ]
    },
    {
      "cell_type": "code",
      "metadata": {
        "colab": {
          "base_uri": "https://localhost:8080/",
          "height": 111
        },
        "id": "YMZOpgOaIaTf",
        "outputId": "361fe411-ba46-4713-bb64-add60d0f31a7"
      },
      "source": [
        "actress[actress['age'] == actress.age.min()]\n",
        "#dung ham: ![ten](link)--> de hien thi anh nhu duoi "
      ],
      "execution_count": null,
      "outputs": [
        {
          "output_type": "execute_result",
          "data": {
            "text/html": [
              "<div>\n",
              "<style scoped>\n",
              "    .dataframe tbody tr th:only-of-type {\n",
              "        vertical-align: middle;\n",
              "    }\n",
              "\n",
              "    .dataframe tbody tr th {\n",
              "        vertical-align: top;\n",
              "    }\n",
              "\n",
              "    .dataframe thead th {\n",
              "        text-align: right;\n",
              "    }\n",
              "</style>\n",
              "<table border=\"1\" class=\"dataframe\">\n",
              "  <thead>\n",
              "    <tr style=\"text-align: right;\">\n",
              "      <th></th>\n",
              "      <th>id</th>\n",
              "      <th>name</th>\n",
              "      <th>japanName</th>\n",
              "      <th>hiragana</th>\n",
              "      <th>bust</th>\n",
              "      <th>waist</th>\n",
              "      <th>hip</th>\n",
              "      <th>height</th>\n",
              "      <th>birthday</th>\n",
              "      <th>blood_type</th>\n",
              "      <th>hobby</th>\n",
              "      <th>prefectures</th>\n",
              "      <th>age</th>\n",
              "    </tr>\n",
              "  </thead>\n",
              "  <tbody>\n",
              "    <tr>\n",
              "      <th>9826</th>\n",
              "      <td>1059504</td>\n",
              "      <td>Maki Izuna</td>\n",
              "      <td>槙いずな</td>\n",
              "      <td>まきいずな</td>\n",
              "      <td>80.0</td>\n",
              "      <td>55.0</td>\n",
              "      <td>84.0</td>\n",
              "      <td>148.0</td>\n",
              "      <td>2001-01-27</td>\n",
              "      <td>None</td>\n",
              "      <td>読書</td>\n",
              "      <td>東京都</td>\n",
              "      <td>20.0</td>\n",
              "    </tr>\n",
              "    <tr>\n",
              "      <th>9933</th>\n",
              "      <td>1061822</td>\n",
              "      <td>Takeda Erena</td>\n",
              "      <td>武田エレナ</td>\n",
              "      <td>たけだえれな</td>\n",
              "      <td>NaN</td>\n",
              "      <td>NaN</td>\n",
              "      <td>NaN</td>\n",
              "      <td>NaN</td>\n",
              "      <td>2001-08-08</td>\n",
              "      <td>None</td>\n",
              "      <td>None</td>\n",
              "      <td>静岡県</td>\n",
              "      <td>20.0</td>\n",
              "    </tr>\n",
              "  </tbody>\n",
              "</table>\n",
              "</div>"
            ],
            "text/plain": [
              "           id          name japanName  ... hobby  prefectures   age\n",
              "9826  1059504    Maki Izuna      槙いずな  ...    読書          東京都  20.0\n",
              "9933  1061822  Takeda Erena     武田エレナ  ...  None          静岡県  20.0\n",
              "\n",
              "[2 rows x 13 columns]"
            ]
          },
          "metadata": {
            "tags": []
          },
          "execution_count": 18
        }
      ]
    },
    {
      "cell_type": "markdown",
      "metadata": {
        "id": "jEv9svydLqhn"
      },
      "source": [
        "![takeda erena](https://mblogthumb-phinf.pstatic.net/MjAyMDA1MzFfMjEw/MDAxNTkwOTM2MTY3OTgx.PjrEOKxKzG3_7Vc372uzsfhUgeRBL2qEWmTwKHlOwd0g.Nf5NAjYpOyNfkc1SmV83VyCDcg0igxIwpPlZXC4CK-4g.JPEG.world199/1590936167024.jpg?type=w800)"
      ]
    },
    {
      "cell_type": "markdown",
      "metadata": {
        "id": "xLKxQw4JKqvq"
      },
      "source": [
        "![mika](https://w.wallha.com/ws/8/pegFOkLq.jpg)"
      ]
    },
    {
      "cell_type": "code",
      "metadata": {
        "colab": {
          "base_uri": "https://localhost:8080/"
        },
        "id": "PzI-wTGGKvZF",
        "outputId": "be3a26a0-631d-437b-ee63-bd36d7ee4fc2"
      },
      "source": [
        "# tinh do tuoi trung binh\n",
        "actress.describe()"
      ],
      "execution_count": null,
      "outputs": [
        {
          "output_type": "stream",
          "text": [
            "<class 'pandas.core.frame.DataFrame'>\n",
            "RangeIndex: 11186 entries, 0 to 11185\n",
            "Data columns (total 13 columns):\n",
            " #   Column       Non-Null Count  Dtype         \n",
            "---  ------       --------------  -----         \n",
            " 0   id           11186 non-null  int64         \n",
            " 1   name         11186 non-null  object        \n",
            " 2   japanName    11186 non-null  object        \n",
            " 3   hiragana     11186 non-null  object        \n",
            " 4   bust         6456 non-null   float64       \n",
            " 5   waist        6436 non-null   float64       \n",
            " 6   hip          6428 non-null   float64       \n",
            " 7   height       5012 non-null   float64       \n",
            " 8   birthday     4031 non-null   datetime64[ns]\n",
            " 9   blood_type   3171 non-null   object        \n",
            " 10  hobby        3730 non-null   object        \n",
            " 11  prefectures  4471 non-null   object        \n",
            " 12  age          4031 non-null   float64       \n",
            "dtypes: datetime64[ns](1), float64(5), int64(1), object(6)\n",
            "memory usage: 1.1+ MB\n"
          ],
          "name": "stdout"
        }
      ]
    },
    {
      "cell_type": "code",
      "metadata": {
        "colab": {
          "base_uri": "https://localhost:8080/"
        },
        "id": "8YxzRgNzLKEI",
        "outputId": "ca2f5375-b3fb-4eab-b758-d8efd13dd1d9"
      },
      "source": [
        "actress.info()"
      ],
      "execution_count": null,
      "outputs": [
        {
          "output_type": "stream",
          "text": [
            "<class 'pandas.core.frame.DataFrame'>\n",
            "RangeIndex: 11186 entries, 0 to 11185\n",
            "Data columns (total 13 columns):\n",
            " #   Column       Non-Null Count  Dtype         \n",
            "---  ------       --------------  -----         \n",
            " 0   id           11186 non-null  int64         \n",
            " 1   name         11186 non-null  object        \n",
            " 2   japanName    11186 non-null  object        \n",
            " 3   hiragana     11186 non-null  object        \n",
            " 4   bust         6456 non-null   float64       \n",
            " 5   waist        6436 non-null   float64       \n",
            " 6   hip          6428 non-null   float64       \n",
            " 7   height       5012 non-null   float64       \n",
            " 8   birthday     4031 non-null   datetime64[ns]\n",
            " 9   blood_type   3171 non-null   object        \n",
            " 10  hobby        3730 non-null   object        \n",
            " 11  prefectures  4471 non-null   object        \n",
            " 12  age          4031 non-null   float64       \n",
            "dtypes: datetime64[ns](1), float64(5), int64(1), object(6)\n",
            "memory usage: 1.1+ MB\n"
          ],
          "name": "stdout"
        }
      ]
    },
    {
      "cell_type": "code",
      "metadata": {
        "colab": {
          "base_uri": "https://localhost:8080/",
          "height": 403
        },
        "id": "iHU6RDh1Mr78",
        "outputId": "1288f191-e6f6-4203-9d19-4e0784a06158"
      },
      "source": [
        "plt.figure(figsize = (15,10))\n",
        "sns.displot(actress.age)"
      ],
      "execution_count": null,
      "outputs": [
        {
          "output_type": "execute_result",
          "data": {
            "text/plain": [
              "<seaborn.axisgrid.FacetGrid at 0x7fd40149aa90>"
            ]
          },
          "metadata": {
            "tags": []
          },
          "execution_count": 22
        },
        {
          "output_type": "display_data",
          "data": {
            "text/plain": [
              "<Figure size 1080x720 with 0 Axes>"
            ]
          },
          "metadata": {
            "tags": []
          }
        },
        {
          "output_type": "display_data",
          "data": {
            "image/png": "[encoded data removed]",
            "text/plain": [
              "<Figure size 360x360 with 1 Axes>"
            ]
          },
          "metadata": {
            "tags": [],
            "needs_background": "light"
          }
        }
      ]
    },
    {
      "cell_type": "code",
      "metadata": {
        "colab": {
          "base_uri": "https://localhost:8080/",
          "height": 403
        },
        "id": "_qiJYCWqNDJM",
        "outputId": "1dde9d40-0df7-43de-cc91-a513796704e7"
      },
      "source": [
        "plt.figure(figsize = (15,10)) # figure size: 15,10 = 1080*720\n",
        "sns.displot(actress.age.dropna())  #ham dropna --> loai bo nhung ten khong co trong danh sach"
      ],
      "execution_count": null,
      "outputs": [
        {
          "output_type": "execute_result",
          "data": {
            "text/plain": [
              "<seaborn.axisgrid.FacetGrid at 0x7fd4013f8e90>"
            ]
          },
          "metadata": {
            "tags": []
          },
          "execution_count": 25
        },
        {
          "output_type": "display_data",
          "data": {
            "text/plain": [
              "<Figure size 1080x720 with 0 Axes>"
            ]
          },
          "metadata": {
            "tags": []
          }
        },
        {
          "output_type": "display_data",
          "data": {
            "image/png": "[encoded data removed]",
            "text/plain": [
              "<Figure size 360x360 with 1 Axes>"
            ]
          },
          "metadata": {
            "tags": [],
            "needs_background": "light"
          }
        }
      ]
    },
    {
      "cell_type": "code",
      "metadata": {
        "colab": {
          "base_uri": "https://localhost:8080/",
          "height": 297
        },
        "id": "iA2L4HzLNyDN",
        "outputId": "0e9884a9-1fe2-4190-8d72-744015a2f768"
      },
      "source": [
        "actress.describe()# récupéter tous les données"
      ],
      "execution_count": null,
      "outputs": [
        {
          "output_type": "execute_result",
          "data": {
            "text/html": [
              "<div>\n",
              "<style scoped>\n",
              "    .dataframe tbody tr th:only-of-type {\n",
              "        vertical-align: middle;\n",
              "    }\n",
              "\n",
              "    .dataframe tbody tr th {\n",
              "        vertical-align: top;\n",
              "    }\n",
              "\n",
              "    .dataframe thead th {\n",
              "        text-align: right;\n",
              "    }\n",
              "</style>\n",
              "<table border=\"1\" class=\"dataframe\">\n",
              "  <thead>\n",
              "    <tr style=\"text-align: right;\">\n",
              "      <th></th>\n",
              "      <th>id</th>\n",
              "      <th>bust</th>\n",
              "      <th>waist</th>\n",
              "      <th>hip</th>\n",
              "      <th>height</th>\n",
              "      <th>age</th>\n",
              "    </tr>\n",
              "  </thead>\n",
              "  <tbody>\n",
              "    <tr>\n",
              "      <th>count</th>\n",
              "      <td>1.118600e+04</td>\n",
              "      <td>6456.000000</td>\n",
              "      <td>6436.000000</td>\n",
              "      <td>6428.000000</td>\n",
              "      <td>5012.000000</td>\n",
              "      <td>4031.000000</td>\n",
              "    </tr>\n",
              "    <tr>\n",
              "      <th>mean</th>\n",
              "      <td>4.852872e+05</td>\n",
              "      <td>87.094253</td>\n",
              "      <td>58.898229</td>\n",
              "      <td>86.289203</td>\n",
              "      <td>158.713148</td>\n",
              "      <td>36.704788</td>\n",
              "    </tr>\n",
              "    <tr>\n",
              "      <th>std</th>\n",
              "      <td>5.076289e+05</td>\n",
              "      <td>6.155405</td>\n",
              "      <td>3.176163</td>\n",
              "      <td>3.829804</td>\n",
              "      <td>5.814022</td>\n",
              "      <td>7.262923</td>\n",
              "    </tr>\n",
              "    <tr>\n",
              "      <th>min</th>\n",
              "      <td>3.000000e+00</td>\n",
              "      <td>51.000000</td>\n",
              "      <td>48.000000</td>\n",
              "      <td>54.000000</td>\n",
              "      <td>134.000000</td>\n",
              "      <td>20.000000</td>\n",
              "    </tr>\n",
              "    <tr>\n",
              "      <th>25%</th>\n",
              "      <td>7.189000e+03</td>\n",
              "      <td>83.000000</td>\n",
              "      <td>58.000000</td>\n",
              "      <td>84.000000</td>\n",
              "      <td>155.000000</td>\n",
              "      <td>32.000000</td>\n",
              "    </tr>\n",
              "    <tr>\n",
              "      <th>50%</th>\n",
              "      <td>2.678500e+04</td>\n",
              "      <td>86.000000</td>\n",
              "      <td>58.000000</td>\n",
              "      <td>86.000000</td>\n",
              "      <td>158.000000</td>\n",
              "      <td>36.000000</td>\n",
              "    </tr>\n",
              "    <tr>\n",
              "      <th>75%</th>\n",
              "      <td>1.026770e+06</td>\n",
              "      <td>90.000000</td>\n",
              "      <td>60.000000</td>\n",
              "      <td>88.000000</td>\n",
              "      <td>163.000000</td>\n",
              "      <td>41.000000</td>\n",
              "    </tr>\n",
              "    <tr>\n",
              "      <th>max</th>\n",
              "      <td>1.063061e+06</td>\n",
              "      <td>153.000000</td>\n",
              "      <td>100.000000</td>\n",
              "      <td>125.000000</td>\n",
              "      <td>182.000000</td>\n",
              "      <td>66.000000</td>\n",
              "    </tr>\n",
              "  </tbody>\n",
              "</table>\n",
              "</div>"
            ],
            "text/plain": [
              "                 id         bust  ...       height          age\n",
              "count  1.118600e+04  6456.000000  ...  5012.000000  4031.000000\n",
              "mean   4.852872e+05    87.094253  ...   158.713148    36.704788\n",
              "std    5.076289e+05     6.155405  ...     5.814022     7.262923\n",
              "min    3.000000e+00    51.000000  ...   134.000000    20.000000\n",
              "25%    7.189000e+03    83.000000  ...   155.000000    32.000000\n",
              "50%    2.678500e+04    86.000000  ...   158.000000    36.000000\n",
              "75%    1.026770e+06    90.000000  ...   163.000000    41.000000\n",
              "max    1.063061e+06   153.000000  ...   182.000000    66.000000\n",
              "\n",
              "[8 rows x 6 columns]"
            ]
          },
          "metadata": {
            "tags": []
          },
          "execution_count": 26
        }
      ]
    },
    {
      "cell_type": "code",
      "metadata": {
        "colab": {
          "base_uri": "https://localhost:8080/",
          "height": 204
        },
        "id": "zLR-nXKJOFtl",
        "outputId": "62475caa-7521-499a-8e65-8d403b2b7f53"
      },
      "source": [
        "actress.head()"
      ],
      "execution_count": null,
      "outputs": [
        {
          "output_type": "execute_result",
          "data": {
            "text/html": [
              "<div>\n",
              "<style scoped>\n",
              "    .dataframe tbody tr th:only-of-type {\n",
              "        vertical-align: middle;\n",
              "    }\n",
              "\n",
              "    .dataframe tbody tr th {\n",
              "        vertical-align: top;\n",
              "    }\n",
              "\n",
              "    .dataframe thead th {\n",
              "        text-align: right;\n",
              "    }\n",
              "</style>\n",
              "<table border=\"1\" class=\"dataframe\">\n",
              "  <thead>\n",
              "    <tr style=\"text-align: right;\">\n",
              "      <th></th>\n",
              "      <th>id</th>\n",
              "      <th>name</th>\n",
              "      <th>japanName</th>\n",
              "      <th>hiragana</th>\n",
              "      <th>bust</th>\n",
              "      <th>waist</th>\n",
              "      <th>hip</th>\n",
              "      <th>height</th>\n",
              "      <th>birthday</th>\n",
              "      <th>blood_type</th>\n",
              "      <th>hobby</th>\n",
              "      <th>prefectures</th>\n",
              "      <th>age</th>\n",
              "    </tr>\n",
              "  </thead>\n",
              "  <tbody>\n",
              "    <tr>\n",
              "      <th>0</th>\n",
              "      <td>3</td>\n",
              "      <td>Kitagawa Yui</td>\n",
              "      <td>北川ゆい</td>\n",
              "      <td>きたがわゆい</td>\n",
              "      <td>95.0</td>\n",
              "      <td>60.0</td>\n",
              "      <td>88.0</td>\n",
              "      <td>NaN</td>\n",
              "      <td>1980-12-14</td>\n",
              "      <td>AB</td>\n",
              "      <td>クラシックバレエ</td>\n",
              "      <td>None</td>\n",
              "      <td>41.0</td>\n",
              "    </tr>\n",
              "    <tr>\n",
              "      <th>1</th>\n",
              "      <td>4</td>\n",
              "      <td>Akira</td>\n",
              "      <td>Akira</td>\n",
              "      <td>あきら</td>\n",
              "      <td>90.0</td>\n",
              "      <td>58.0</td>\n",
              "      <td>86.0</td>\n",
              "      <td>157.0</td>\n",
              "      <td>1978-08-15</td>\n",
              "      <td>A</td>\n",
              "      <td>水泳、ゴルフ</td>\n",
              "      <td>東京都</td>\n",
              "      <td>43.0</td>\n",
              "    </tr>\n",
              "    <tr>\n",
              "      <th>2</th>\n",
              "      <td>6</td>\n",
              "      <td>Cocolo</td>\n",
              "      <td>COCOLO</td>\n",
              "      <td>こころ</td>\n",
              "      <td>96.0</td>\n",
              "      <td>55.0</td>\n",
              "      <td>85.0</td>\n",
              "      <td>168.0</td>\n",
              "      <td>1982-07-07</td>\n",
              "      <td>B</td>\n",
              "      <td>パソコン</td>\n",
              "      <td>茨城県</td>\n",
              "      <td>39.0</td>\n",
              "    </tr>\n",
              "    <tr>\n",
              "      <th>3</th>\n",
              "      <td>8</td>\n",
              "      <td>Saiko</td>\n",
              "      <td>Saiko</td>\n",
              "      <td>さいこ</td>\n",
              "      <td>80.0</td>\n",
              "      <td>59.0</td>\n",
              "      <td>82.0</td>\n",
              "      <td>162.0</td>\n",
              "      <td>1983-04-12</td>\n",
              "      <td>O</td>\n",
              "      <td>料理、大食い</td>\n",
              "      <td>東京都</td>\n",
              "      <td>38.0</td>\n",
              "    </tr>\n",
              "    <tr>\n",
              "      <th>4</th>\n",
              "      <td>11</td>\n",
              "      <td>Aida Momo</td>\n",
              "      <td>あいだもも</td>\n",
              "      <td>あいだもも</td>\n",
              "      <td>82.0</td>\n",
              "      <td>55.0</td>\n",
              "      <td>89.0</td>\n",
              "      <td>162.0</td>\n",
              "      <td>1970-06-18</td>\n",
              "      <td>A</td>\n",
              "      <td>エアロビクス</td>\n",
              "      <td>東京都</td>\n",
              "      <td>51.0</td>\n",
              "    </tr>\n",
              "  </tbody>\n",
              "</table>\n",
              "</div>"
            ],
            "text/plain": [
              "   id          name japanName hiragana  ...  blood_type     hobby  prefectures   age\n",
              "0   3  Kitagawa Yui      北川ゆい   きたがわゆい  ...          AB  クラシックバレエ         None  41.0\n",
              "1   4         Akira     Akira      あきら  ...           A    水泳、ゴルフ          東京都  43.0\n",
              "2   6        Cocolo    COCOLO      こころ  ...           B      パソコン          茨城県  39.0\n",
              "3   8         Saiko     Saiko      さいこ  ...           O    料理、大食い          東京都  38.0\n",
              "4  11     Aida Momo     あいだもも    あいだもも  ...           A    エアロビクス          東京都  51.0\n",
              "\n",
              "[5 rows x 13 columns]"
            ]
          },
          "metadata": {
            "tags": []
          },
          "execution_count": 27
        }
      ]
    },
    {
      "cell_type": "code",
      "metadata": {
        "colab": {
          "base_uri": "https://localhost:8080/"
        },
        "id": "WdI37TqmOQAv",
        "outputId": "da241e8f-40e9-46e5-ca91-7e07d9c920f4"
      },
      "source": [
        "actress.age.max()"
      ],
      "execution_count": null,
      "outputs": [
        {
          "output_type": "execute_result",
          "data": {
            "text/plain": [
              "66.0"
            ]
          },
          "metadata": {
            "tags": []
          },
          "execution_count": 28
        }
      ]
    },
    {
      "cell_type": "code",
      "metadata": {
        "colab": {
          "base_uri": "https://localhost:8080/",
          "height": 391
        },
        "id": "SePMWvTuOXJF",
        "outputId": "17e00b5d-a049-42d4-812d-3fc329b34665"
      },
      "source": [
        "actress.bust.hist(figsize=(15,6), bins= 50) # bins= 50 colone"
      ],
      "execution_count": null,
      "outputs": [
        {
          "output_type": "execute_result",
          "data": {
            "text/plain": [
              "<matplotlib.axes._subplots.AxesSubplot at 0x7fd40133c950>"
            ]
          },
          "metadata": {
            "tags": []
          },
          "execution_count": 32
        },
        {
          "output_type": "display_data",
          "data": {
            "image/png": "[encoded data removed]",
            "text/plain": [
              "<Figure size 1080x432 with 1 Axes>"
            ]
          },
          "metadata": {
            "tags": [],
            "needs_background": "light"
          }
        }
      ]
    },
    {
      "cell_type": "code",
      "metadata": {
        "colab": {
          "base_uri": "https://localhost:8080/"
        },
        "id": "UiVLHN-xPpuI",
        "outputId": "3ece32b5-c20b-47b8-c9e9-fc46cbbf7d4c"
      },
      "source": [
        "actress.bust.head()"
      ],
      "execution_count": null,
      "outputs": [
        {
          "output_type": "execute_result",
          "data": {
            "text/plain": [
              "0    95.0\n",
              "1    90.0\n",
              "2    96.0\n",
              "3    80.0\n",
              "4    82.0\n",
              "Name: bust, dtype: float64"
            ]
          },
          "metadata": {
            "tags": []
          },
          "execution_count": 33
        }
      ]
    },
    {
      "cell_type": "code",
      "metadata": {
        "colab": {
          "base_uri": "https://localhost:8080/"
        },
        "id": "dmYqkTGpP3VU",
        "outputId": "ebdd73a8-c890-4754-ee4e-6613874ba42b"
      },
      "source": [
        "actress.bust.describe()#.max()"
      ],
      "execution_count": null,
      "outputs": [
        {
          "output_type": "execute_result",
          "data": {
            "text/plain": [
              "count    6456.000000\n",
              "mean       87.094253\n",
              "std         6.155405\n",
              "min        51.000000\n",
              "25%        83.000000\n",
              "50%        86.000000\n",
              "75%        90.000000\n",
              "max       153.000000\n",
              "Name: bust, dtype: float64"
            ]
          },
          "metadata": {
            "tags": []
          },
          "execution_count": 37
        }
      ]
    },
    {
      "cell_type": "code",
      "metadata": {
        "colab": {
          "base_uri": "https://localhost:8080/",
          "height": 419
        },
        "id": "-mOyWBjBQ9js",
        "outputId": "83114eef-6ff6-4e58-808d-60f6a9a6d803"
      },
      "source": [
        "actress[actress.name.str.contains(\"Yui\")]\n"
      ],
      "execution_count": null,
      "outputs": [
        {
          "output_type": "execute_result",
          "data": {
            "text/html": [
              "<div>\n",
              "<style scoped>\n",
              "    .dataframe tbody tr th:only-of-type {\n",
              "        vertical-align: middle;\n",
              "    }\n",
              "\n",
              "    .dataframe tbody tr th {\n",
              "        vertical-align: top;\n",
              "    }\n",
              "\n",
              "    .dataframe thead th {\n",
              "        text-align: right;\n",
              "    }\n",
              "</style>\n",
              "<table border=\"1\" class=\"dataframe\">\n",
              "  <thead>\n",
              "    <tr style=\"text-align: right;\">\n",
              "      <th></th>\n",
              "      <th>id</th>\n",
              "      <th>name</th>\n",
              "      <th>japanName</th>\n",
              "      <th>hiragana</th>\n",
              "      <th>bust</th>\n",
              "      <th>waist</th>\n",
              "      <th>hip</th>\n",
              "      <th>height</th>\n",
              "      <th>birthday</th>\n",
              "      <th>blood_type</th>\n",
              "      <th>hobby</th>\n",
              "      <th>prefectures</th>\n",
              "      <th>age</th>\n",
              "    </tr>\n",
              "  </thead>\n",
              "  <tbody>\n",
              "    <tr>\n",
              "      <th>0</th>\n",
              "      <td>3</td>\n",
              "      <td>Kitagawa Yui</td>\n",
              "      <td>北川ゆい</td>\n",
              "      <td>きたがわゆい</td>\n",
              "      <td>95.0</td>\n",
              "      <td>60.0</td>\n",
              "      <td>88.0</td>\n",
              "      <td>NaN</td>\n",
              "      <td>1980-12-14</td>\n",
              "      <td>AB</td>\n",
              "      <td>クラシックバレエ</td>\n",
              "      <td>None</td>\n",
              "      <td>41.0</td>\n",
              "    </tr>\n",
              "    <tr>\n",
              "      <th>121</th>\n",
              "      <td>183</td>\n",
              "      <td>Minami Yui</td>\n",
              "      <td>みなみゆい</td>\n",
              "      <td>みなみゆい</td>\n",
              "      <td>83.0</td>\n",
              "      <td>56.0</td>\n",
              "      <td>83.0</td>\n",
              "      <td>156.0</td>\n",
              "      <td>1982-09-20</td>\n",
              "      <td>A</td>\n",
              "      <td>テニス、バイオリン、フランス語</td>\n",
              "      <td>東京都</td>\n",
              "      <td>39.0</td>\n",
              "    </tr>\n",
              "    <tr>\n",
              "      <th>266</th>\n",
              "      <td>11480</td>\n",
              "      <td>Hasumi Yui</td>\n",
              "      <td>蓮美ゆい</td>\n",
              "      <td>はすみゆい</td>\n",
              "      <td>83.0</td>\n",
              "      <td>58.0</td>\n",
              "      <td>85.0</td>\n",
              "      <td>NaN</td>\n",
              "      <td>1983-04-29</td>\n",
              "      <td>O</td>\n",
              "      <td>絵画、音楽鑑賞</td>\n",
              "      <td>None</td>\n",
              "      <td>38.0</td>\n",
              "    </tr>\n",
              "    <tr>\n",
              "      <th>283</th>\n",
              "      <td>11586</td>\n",
              "      <td>Tomoe Yui</td>\n",
              "      <td>友恵ゆい</td>\n",
              "      <td>ともえゆい</td>\n",
              "      <td>92.0</td>\n",
              "      <td>60.0</td>\n",
              "      <td>90.0</td>\n",
              "      <td>NaN</td>\n",
              "      <td>1983-02-16</td>\n",
              "      <td>None</td>\n",
              "      <td>None</td>\n",
              "      <td>東京都</td>\n",
              "      <td>38.0</td>\n",
              "    </tr>\n",
              "    <tr>\n",
              "      <th>588</th>\n",
              "      <td>12757</td>\n",
              "      <td>Komine Yui</td>\n",
              "      <td>小峰由衣</td>\n",
              "      <td>こみねゆい</td>\n",
              "      <td>88.0</td>\n",
              "      <td>58.0</td>\n",
              "      <td>85.0</td>\n",
              "      <td>160.0</td>\n",
              "      <td>1984-09-29</td>\n",
              "      <td>O</td>\n",
              "      <td>洋裁</td>\n",
              "      <td>東京都</td>\n",
              "      <td>37.0</td>\n",
              "    </tr>\n",
              "    <tr>\n",
              "      <th>...</th>\n",
              "      <td>...</td>\n",
              "      <td>...</td>\n",
              "      <td>...</td>\n",
              "      <td>...</td>\n",
              "      <td>...</td>\n",
              "      <td>...</td>\n",
              "      <td>...</td>\n",
              "      <td>...</td>\n",
              "      <td>...</td>\n",
              "      <td>...</td>\n",
              "      <td>...</td>\n",
              "      <td>...</td>\n",
              "      <td>...</td>\n",
              "    </tr>\n",
              "    <tr>\n",
              "      <th>10890</th>\n",
              "      <td>8895</td>\n",
              "      <td>Itihara Yui</td>\n",
              "      <td>市原結</td>\n",
              "      <td>いちはらゆい</td>\n",
              "      <td>86.0</td>\n",
              "      <td>58.0</td>\n",
              "      <td>86.0</td>\n",
              "      <td>160.0</td>\n",
              "      <td>NaT</td>\n",
              "      <td>None</td>\n",
              "      <td>None</td>\n",
              "      <td>None</td>\n",
              "      <td>NaN</td>\n",
              "    </tr>\n",
              "    <tr>\n",
              "      <th>10995</th>\n",
              "      <td>993</td>\n",
              "      <td>Sarina Yui</td>\n",
              "      <td>沙里奈ユイ</td>\n",
              "      <td>さりなゆい</td>\n",
              "      <td>88.0</td>\n",
              "      <td>57.0</td>\n",
              "      <td>83.0</td>\n",
              "      <td>154.0</td>\n",
              "      <td>1982-12-13</td>\n",
              "      <td>A</td>\n",
              "      <td>ショッピング、カラオケ</td>\n",
              "      <td>秋田県</td>\n",
              "      <td>39.0</td>\n",
              "    </tr>\n",
              "    <tr>\n",
              "      <th>11004</th>\n",
              "      <td>1008</td>\n",
              "      <td>Saitou Yui</td>\n",
              "      <td>斉藤唯</td>\n",
              "      <td>さいとうゆい</td>\n",
              "      <td>82.0</td>\n",
              "      <td>58.0</td>\n",
              "      <td>87.0</td>\n",
              "      <td>160.0</td>\n",
              "      <td>1968-07-06</td>\n",
              "      <td>AB</td>\n",
              "      <td>None</td>\n",
              "      <td>東京都</td>\n",
              "      <td>53.0</td>\n",
              "    </tr>\n",
              "    <tr>\n",
              "      <th>11020</th>\n",
              "      <td>9301</td>\n",
              "      <td>Yuikawa Zyun</td>\n",
              "      <td>唯川純</td>\n",
              "      <td>ゆいかわじゅん</td>\n",
              "      <td>82.0</td>\n",
              "      <td>60.0</td>\n",
              "      <td>86.0</td>\n",
              "      <td>164.0</td>\n",
              "      <td>1984-12-15</td>\n",
              "      <td>A</td>\n",
              "      <td>ゲーム</td>\n",
              "      <td>神奈川県</td>\n",
              "      <td>37.0</td>\n",
              "    </tr>\n",
              "    <tr>\n",
              "      <th>11125</th>\n",
              "      <td>10125</td>\n",
              "      <td>Yui Misa</td>\n",
              "      <td>結衣（結衣美沙）</td>\n",
              "      <td>ゆい（ゆいみさ）</td>\n",
              "      <td>86.0</td>\n",
              "      <td>59.0</td>\n",
              "      <td>87.0</td>\n",
              "      <td>156.0</td>\n",
              "      <td>1974-07-11</td>\n",
              "      <td>A</td>\n",
              "      <td>英会話、トールペインティング、料理、ソーイング、書道</td>\n",
              "      <td></td>\n",
              "      <td>47.0</td>\n",
              "    </tr>\n",
              "  </tbody>\n",
              "</table>\n",
              "<p>169 rows × 13 columns</p>\n",
              "</div>"
            ],
            "text/plain": [
              "          id          name  ... prefectures   age\n",
              "0          3  Kitagawa Yui  ...        None  41.0\n",
              "121      183    Minami Yui  ...         東京都  39.0\n",
              "266    11480    Hasumi Yui  ...        None  38.0\n",
              "283    11586     Tomoe Yui  ...         東京都  38.0\n",
              "588    12757    Komine Yui  ...         東京都  37.0\n",
              "...      ...           ...  ...         ...   ...\n",
              "10890   8895   Itihara Yui  ...        None   NaN\n",
              "10995    993    Sarina Yui  ...         秋田県  39.0\n",
              "11004   1008    Saitou Yui  ...         東京都  53.0\n",
              "11020   9301  Yuikawa Zyun  ...        神奈川県  37.0\n",
              "11125  10125      Yui Misa  ...              47.0\n",
              "\n",
              "[169 rows x 13 columns]"
            ]
          },
          "metadata": {
            "tags": []
          },
          "execution_count": 40
        }
      ]
    },
    {
      "cell_type": "code",
      "metadata": {
        "colab": {
          "base_uri": "https://localhost:8080/",
          "height": 638
        },
        "id": "hl8fdga-RIaW",
        "outputId": "1aa310c0-fe78-489b-9814-fef3b6a3cb8e"
      },
      "source": [
        "actress[actress.name.str.contains(\"Mikami\")]\n"
      ],
      "execution_count": null,
      "outputs": [
        {
          "output_type": "execute_result",
          "data": {
            "text/html": [
              "<div>\n",
              "<style scoped>\n",
              "    .dataframe tbody tr th:only-of-type {\n",
              "        vertical-align: middle;\n",
              "    }\n",
              "\n",
              "    .dataframe tbody tr th {\n",
              "        vertical-align: top;\n",
              "    }\n",
              "\n",
              "    .dataframe thead th {\n",
              "        text-align: right;\n",
              "    }\n",
              "</style>\n",
              "<table border=\"1\" class=\"dataframe\">\n",
              "  <thead>\n",
              "    <tr style=\"text-align: right;\">\n",
              "      <th></th>\n",
              "      <th>id</th>\n",
              "      <th>name</th>\n",
              "      <th>japanName</th>\n",
              "      <th>hiragana</th>\n",
              "      <th>bust</th>\n",
              "      <th>waist</th>\n",
              "      <th>hip</th>\n",
              "      <th>height</th>\n",
              "      <th>birthday</th>\n",
              "      <th>blood_type</th>\n",
              "      <th>hobby</th>\n",
              "      <th>prefectures</th>\n",
              "      <th>age</th>\n",
              "    </tr>\n",
              "  </thead>\n",
              "  <tbody>\n",
              "    <tr>\n",
              "      <th>94</th>\n",
              "      <td>1117</td>\n",
              "      <td>Mikami Sati</td>\n",
              "      <td>三上さち</td>\n",
              "      <td>みかみさち</td>\n",
              "      <td>NaN</td>\n",
              "      <td>NaN</td>\n",
              "      <td>NaN</td>\n",
              "      <td>NaN</td>\n",
              "      <td>NaT</td>\n",
              "      <td>None</td>\n",
              "      <td>None</td>\n",
              "      <td>None</td>\n",
              "      <td>NaN</td>\n",
              "    </tr>\n",
              "    <tr>\n",
              "      <th>95</th>\n",
              "      <td>1118</td>\n",
              "      <td>Mikami Syun</td>\n",
              "      <td>三上しゅん</td>\n",
              "      <td>みかみしゅん</td>\n",
              "      <td>NaN</td>\n",
              "      <td>NaN</td>\n",
              "      <td>NaN</td>\n",
              "      <td>NaN</td>\n",
              "      <td>NaT</td>\n",
              "      <td>None</td>\n",
              "      <td>None</td>\n",
              "      <td>None</td>\n",
              "      <td>NaN</td>\n",
              "    </tr>\n",
              "    <tr>\n",
              "      <th>96</th>\n",
              "      <td>1119</td>\n",
              "      <td>Mikami Ran</td>\n",
              "      <td>三上蘭</td>\n",
              "      <td>みかみらん</td>\n",
              "      <td>84.0</td>\n",
              "      <td>59.0</td>\n",
              "      <td>86.0</td>\n",
              "      <td>NaN</td>\n",
              "      <td>1982-12-16</td>\n",
              "      <td>O</td>\n",
              "      <td>None</td>\n",
              "      <td>None</td>\n",
              "      <td>39.0</td>\n",
              "    </tr>\n",
              "    <tr>\n",
              "      <th>625</th>\n",
              "      <td>13127</td>\n",
              "      <td>Mikami Runa</td>\n",
              "      <td>美神ルナ</td>\n",
              "      <td>みかみるな</td>\n",
              "      <td>88.0</td>\n",
              "      <td>58.0</td>\n",
              "      <td>85.0</td>\n",
              "      <td>163.0</td>\n",
              "      <td>1984-06-01</td>\n",
              "      <td>O</td>\n",
              "      <td>ダンス、旅行、ダイビング、英会話</td>\n",
              "      <td>東京都</td>\n",
              "      <td>37.0</td>\n",
              "    </tr>\n",
              "    <tr>\n",
              "      <th>677</th>\n",
              "      <td>13586</td>\n",
              "      <td>Mikami Yuuki</td>\n",
              "      <td>三上夕希</td>\n",
              "      <td>みかみゆうき</td>\n",
              "      <td>86.0</td>\n",
              "      <td>65.0</td>\n",
              "      <td>89.0</td>\n",
              "      <td>168.0</td>\n",
              "      <td>NaT</td>\n",
              "      <td>None</td>\n",
              "      <td>None</td>\n",
              "      <td>None</td>\n",
              "      <td>NaN</td>\n",
              "    </tr>\n",
              "    <tr>\n",
              "      <th>1762</th>\n",
              "      <td>20124</td>\n",
              "      <td>Mikami Seri</td>\n",
              "      <td>美上セリ</td>\n",
              "      <td>みかみせり</td>\n",
              "      <td>83.0</td>\n",
              "      <td>58.0</td>\n",
              "      <td>82.0</td>\n",
              "      <td>160.0</td>\n",
              "      <td>1987-03-15</td>\n",
              "      <td>B</td>\n",
              "      <td>ショッピング、ダーツ</td>\n",
              "      <td>東京都</td>\n",
              "      <td>34.0</td>\n",
              "    </tr>\n",
              "    <tr>\n",
              "      <th>2258</th>\n",
              "      <td>22162</td>\n",
              "      <td>Mikami Nana</td>\n",
              "      <td>美神奈々</td>\n",
              "      <td>みかみなな</td>\n",
              "      <td>NaN</td>\n",
              "      <td>NaN</td>\n",
              "      <td>NaN</td>\n",
              "      <td>NaN</td>\n",
              "      <td>NaT</td>\n",
              "      <td>None</td>\n",
              "      <td>None</td>\n",
              "      <td>None</td>\n",
              "      <td>NaN</td>\n",
              "    </tr>\n",
              "    <tr>\n",
              "      <th>3207</th>\n",
              "      <td>26885</td>\n",
              "      <td>Mikami Sihori</td>\n",
              "      <td>三神しほり</td>\n",
              "      <td>みかみしほり</td>\n",
              "      <td>NaN</td>\n",
              "      <td>NaN</td>\n",
              "      <td>NaN</td>\n",
              "      <td>NaN</td>\n",
              "      <td>NaT</td>\n",
              "      <td>None</td>\n",
              "      <td>None</td>\n",
              "      <td></td>\n",
              "      <td>NaN</td>\n",
              "    </tr>\n",
              "    <tr>\n",
              "      <th>3305</th>\n",
              "      <td>27668</td>\n",
              "      <td>Mikami Rion</td>\n",
              "      <td>三上リオン</td>\n",
              "      <td>みかみりおん</td>\n",
              "      <td>88.0</td>\n",
              "      <td>59.0</td>\n",
              "      <td>82.0</td>\n",
              "      <td>147.0</td>\n",
              "      <td>NaT</td>\n",
              "      <td>None</td>\n",
              "      <td></td>\n",
              "      <td></td>\n",
              "      <td>NaN</td>\n",
              "    </tr>\n",
              "    <tr>\n",
              "      <th>3391</th>\n",
              "      <td>27889</td>\n",
              "      <td>Mikami Seira</td>\n",
              "      <td>美神聖良</td>\n",
              "      <td>みかみせいら</td>\n",
              "      <td>NaN</td>\n",
              "      <td>NaN</td>\n",
              "      <td>NaN</td>\n",
              "      <td>NaN</td>\n",
              "      <td>NaT</td>\n",
              "      <td>None</td>\n",
              "      <td>None</td>\n",
              "      <td></td>\n",
              "      <td>NaN</td>\n",
              "    </tr>\n",
              "    <tr>\n",
              "      <th>3470</th>\n",
              "      <td>28354</td>\n",
              "      <td>Mikami Sayuri</td>\n",
              "      <td>美神さゆり</td>\n",
              "      <td>みかみさゆり</td>\n",
              "      <td>NaN</td>\n",
              "      <td>NaN</td>\n",
              "      <td>NaN</td>\n",
              "      <td>NaN</td>\n",
              "      <td>NaT</td>\n",
              "      <td>None</td>\n",
              "      <td>None</td>\n",
              "      <td></td>\n",
              "      <td>NaN</td>\n",
              "    </tr>\n",
              "    <tr>\n",
              "      <th>3720</th>\n",
              "      <td>1000282</td>\n",
              "      <td>Mikami Airi</td>\n",
              "      <td>三上あいり</td>\n",
              "      <td>みかみあいり</td>\n",
              "      <td>85.0</td>\n",
              "      <td>58.0</td>\n",
              "      <td>84.0</td>\n",
              "      <td>165.0</td>\n",
              "      <td>1988-09-18</td>\n",
              "      <td>AB</td>\n",
              "      <td>読書、映画鑑賞</td>\n",
              "      <td>北海道</td>\n",
              "      <td>33.0</td>\n",
              "    </tr>\n",
              "    <tr>\n",
              "      <th>6473</th>\n",
              "      <td>1025073</td>\n",
              "      <td>Mikami Yuzu</td>\n",
              "      <td>三神ゆず</td>\n",
              "      <td>みかみゆず</td>\n",
              "      <td>NaN</td>\n",
              "      <td>NaN</td>\n",
              "      <td>NaN</td>\n",
              "      <td>NaN</td>\n",
              "      <td>NaT</td>\n",
              "      <td>None</td>\n",
              "      <td>None</td>\n",
              "      <td>None</td>\n",
              "      <td>NaN</td>\n",
              "    </tr>\n",
              "    <tr>\n",
              "      <th>6524</th>\n",
              "      <td>1025577</td>\n",
              "      <td>Mikami Riho</td>\n",
              "      <td>三上里穂</td>\n",
              "      <td>みかみりほ</td>\n",
              "      <td>NaN</td>\n",
              "      <td>NaN</td>\n",
              "      <td>NaN</td>\n",
              "      <td>NaN</td>\n",
              "      <td>NaT</td>\n",
              "      <td>None</td>\n",
              "      <td>None</td>\n",
              "      <td>None</td>\n",
              "      <td>NaN</td>\n",
              "    </tr>\n",
              "    <tr>\n",
              "      <th>6541</th>\n",
              "      <td>1025773</td>\n",
              "      <td>Mikami Aya</td>\n",
              "      <td>美神あや</td>\n",
              "      <td>みかみあや</td>\n",
              "      <td>88.0</td>\n",
              "      <td>58.0</td>\n",
              "      <td>90.0</td>\n",
              "      <td>157.0</td>\n",
              "      <td>1984-10-10</td>\n",
              "      <td>None</td>\n",
              "      <td>None</td>\n",
              "      <td>None</td>\n",
              "      <td>37.0</td>\n",
              "    </tr>\n",
              "    <tr>\n",
              "      <th>7237</th>\n",
              "      <td>1030262</td>\n",
              "      <td>Mikami Yua</td>\n",
              "      <td>三上悠亜</td>\n",
              "      <td>みかみゆあ</td>\n",
              "      <td>84.0</td>\n",
              "      <td>58.0</td>\n",
              "      <td>88.0</td>\n",
              "      <td>159.0</td>\n",
              "      <td>1993-08-16</td>\n",
              "      <td>None</td>\n",
              "      <td>アイドルDVD鑑賞</td>\n",
              "      <td>None</td>\n",
              "      <td>28.0</td>\n",
              "    </tr>\n",
              "    <tr>\n",
              "      <th>7859</th>\n",
              "      <td>1034620</td>\n",
              "      <td>Mikami Erika</td>\n",
              "      <td>三上絵理香</td>\n",
              "      <td>みかみえりか</td>\n",
              "      <td>NaN</td>\n",
              "      <td>NaN</td>\n",
              "      <td>NaN</td>\n",
              "      <td>NaN</td>\n",
              "      <td>NaT</td>\n",
              "      <td>None</td>\n",
              "      <td>None</td>\n",
              "      <td>None</td>\n",
              "      <td>NaN</td>\n",
              "    </tr>\n",
              "    <tr>\n",
              "      <th>7948</th>\n",
              "      <td>4690</td>\n",
              "      <td>Mikami Syouko</td>\n",
              "      <td>三上翔子</td>\n",
              "      <td>みかみしょうこ</td>\n",
              "      <td>83.0</td>\n",
              "      <td>61.0</td>\n",
              "      <td>88.0</td>\n",
              "      <td>156.0</td>\n",
              "      <td>1982-02-18</td>\n",
              "      <td>B</td>\n",
              "      <td>None</td>\n",
              "      <td>東京都</td>\n",
              "      <td>39.0</td>\n",
              "    </tr>\n",
              "    <tr>\n",
              "      <th>8403</th>\n",
              "      <td>1039029</td>\n",
              "      <td>Mikami Chinatu</td>\n",
              "      <td>三上千夏</td>\n",
              "      <td>みかみちなつ</td>\n",
              "      <td>NaN</td>\n",
              "      <td>NaN</td>\n",
              "      <td>NaN</td>\n",
              "      <td>NaN</td>\n",
              "      <td>NaT</td>\n",
              "      <td>None</td>\n",
              "      <td>None</td>\n",
              "      <td>None</td>\n",
              "      <td>NaN</td>\n",
              "    </tr>\n",
              "  </tbody>\n",
              "</table>\n",
              "</div>"
            ],
            "text/plain": [
              "           id            name japanName  ...             hobby  prefectures   age\n",
              "94       1117     Mikami Sati      三上さち  ...              None         None   NaN\n",
              "95       1118     Mikami Syun     三上しゅん  ...              None         None   NaN\n",
              "96       1119      Mikami Ran       三上蘭  ...              None         None  39.0\n",
              "625     13127     Mikami Runa      美神ルナ  ...  ダンス、旅行、ダイビング、英会話          東京都  37.0\n",
              "677     13586    Mikami Yuuki      三上夕希  ...              None         None   NaN\n",
              "1762    20124     Mikami Seri      美上セリ  ...        ショッピング、ダーツ          東京都  34.0\n",
              "2258    22162     Mikami Nana      美神奈々  ...              None         None   NaN\n",
              "3207    26885   Mikami Sihori     三神しほり  ...              None                NaN\n",
              "3305    27668     Mikami Rion     三上リオン  ...                                  NaN\n",
              "3391    27889    Mikami Seira      美神聖良  ...              None                NaN\n",
              "3470    28354   Mikami Sayuri     美神さゆり  ...              None                NaN\n",
              "3720  1000282     Mikami Airi     三上あいり  ...           読書、映画鑑賞          北海道  33.0\n",
              "6473  1025073     Mikami Yuzu      三神ゆず  ...              None         None   NaN\n",
              "6524  1025577     Mikami Riho      三上里穂  ...              None         None   NaN\n",
              "6541  1025773      Mikami Aya      美神あや  ...              None         None  37.0\n",
              "7237  1030262      Mikami Yua      三上悠亜  ...         アイドルDVD鑑賞         None  28.0\n",
              "7859  1034620    Mikami Erika     三上絵理香  ...              None         None   NaN\n",
              "7948     4690   Mikami Syouko      三上翔子  ...              None          東京都  39.0\n",
              "8403  1039029  Mikami Chinatu      三上千夏  ...              None         None   NaN\n",
              "\n",
              "[19 rows x 13 columns]"
            ]
          },
          "metadata": {
            "tags": []
          },
          "execution_count": 44
        }
      ]
    },
    {
      "cell_type": "markdown",
      "metadata": {
        "id": "_OEiK2IGRX1F"
      },
      "source": [
        "![mikami](https://encrypted-tbn0.gstatic.com/images?q=tbn:ANd9GcTbrqx4Oe77lZs0AvQ5Z_DUArJvtE5y-meGqOAe-0WMkiotMj2WxBUoWMj_y4txE3Q8L2g&usqp=CAU)"
      ]
    },
    {
      "cell_type": "code",
      "metadata": {
        "colab": {
          "base_uri": "https://localhost:8080/"
        },
        "id": "ZSCsfsddR8WC",
        "outputId": "41526786-a7fe-4788-a8be-808d776b5f77"
      },
      "source": [
        "actress.info()"
      ],
      "execution_count": null,
      "outputs": [
        {
          "output_type": "stream",
          "text": [
            "<class 'pandas.core.frame.DataFrame'>\n",
            "RangeIndex: 11186 entries, 0 to 11185\n",
            "Data columns (total 13 columns):\n",
            " #   Column       Non-Null Count  Dtype         \n",
            "---  ------       --------------  -----         \n",
            " 0   id           11186 non-null  int64         \n",
            " 1   name         11186 non-null  object        \n",
            " 2   japanName    11186 non-null  object        \n",
            " 3   hiragana     11186 non-null  object        \n",
            " 4   bust         6456 non-null   float64       \n",
            " 5   waist        6436 non-null   float64       \n",
            " 6   hip          6428 non-null   float64       \n",
            " 7   height       5012 non-null   float64       \n",
            " 8   birthday     4031 non-null   datetime64[ns]\n",
            " 9   blood_type   3171 non-null   object        \n",
            " 10  hobby        3730 non-null   object        \n",
            " 11  prefectures  4471 non-null   object        \n",
            " 12  age          4031 non-null   float64       \n",
            "dtypes: datetime64[ns](1), float64(5), int64(1), object(6)\n",
            "memory usage: 1.1+ MB\n"
          ],
          "name": "stdout"
        }
      ]
    },
    {
      "cell_type": "code",
      "metadata": {
        "id": "7vLAjcjqSIKP"
      },
      "source": [
        "from wordcloud import WordCloud"
      ],
      "execution_count": null,
      "outputs": []
    },
    {
      "cell_type": "code",
      "metadata": {
        "id": "CKNw7MhMSYz_"
      },
      "source": [
        "hobby_df = actress[actress.hobby.notnull()]"
      ],
      "execution_count": null,
      "outputs": []
    },
    {
      "cell_type": "code",
      "metadata": {
        "colab": {
          "base_uri": "https://localhost:8080/"
        },
        "id": "_iwFAbF6SRZH",
        "outputId": "58a16f80-177d-4c5a-b64e-7cccdbca4c27"
      },
      "source": [
        "hobby_df.info()"
      ],
      "execution_count": null,
      "outputs": [
        {
          "output_type": "stream",
          "text": [
            "<class 'pandas.core.frame.DataFrame'>\n",
            "Int64Index: 3730 entries, 0 to 11185\n",
            "Data columns (total 13 columns):\n",
            " #   Column       Non-Null Count  Dtype         \n",
            "---  ------       --------------  -----         \n",
            " 0   id           3730 non-null   int64         \n",
            " 1   name         3730 non-null   object        \n",
            " 2   japanName    3730 non-null   object        \n",
            " 3   hiragana     3730 non-null   object        \n",
            " 4   bust         3523 non-null   float64       \n",
            " 5   waist        3539 non-null   float64       \n",
            " 6   hip          3539 non-null   float64       \n",
            " 7   height       3045 non-null   float64       \n",
            " 8   birthday     3056 non-null   datetime64[ns]\n",
            " 9   blood_type   2610 non-null   object        \n",
            " 10  hobby        3730 non-null   object        \n",
            " 11  prefectures  2665 non-null   object        \n",
            " 12  age          3056 non-null   float64       \n",
            "dtypes: datetime64[ns](1), float64(5), int64(1), object(6)\n",
            "memory usage: 408.0+ KB\n"
          ],
          "name": "stdout"
        }
      ]
    },
    {
      "cell_type": "code",
      "metadata": {
        "id": "FPcw_dkmSsyu"
      },
      "source": [
        "hobby_txt = ''.join(hobby_df['hobby'])"
      ],
      "execution_count": null,
      "outputs": []
    },
    {
      "cell_type": "code",
      "metadata": {
        "colab": {
          "base_uri": "https://localhost:8080/",
          "height": 197
        },
        "id": "Iosvi4z5S3um",
        "outputId": "093e7db1-8025-445a-8275-710ec53895d3"
      },
      "source": [
        "from matplotlib import rcParams\n",
        "rcParams['figure.figsize'] = 15,8\n",
        "wordcloud = WordCloud(font_path='jav-py/jp.otf', max_words=200, max_font_size=40, scale=3).gerenate(hobby_txt)"
      ],
      "execution_count": null,
      "outputs": [
        {
          "output_type": "error",
          "ename": "AttributeError",
          "evalue": "ignored",
          "traceback": [
            "\u001b[0;31m---------------------------------------------------------------------------\u001b[0m",
            "\u001b[0;31mAttributeError\u001b[0m                            Traceback (most recent call last)",
            "\u001b[0;32m<ipython-input-59-e4d9a2b0988b>\u001b[0m in \u001b[0;36m<module>\u001b[0;34m()\u001b[0m\n\u001b[1;32m      1\u001b[0m \u001b[0;32mfrom\u001b[0m \u001b[0mmatplotlib\u001b[0m \u001b[0;32mimport\u001b[0m \u001b[0mrcParams\u001b[0m\u001b[0;34m\u001b[0m\u001b[0;34m\u001b[0m\u001b[0m\n\u001b[1;32m      2\u001b[0m \u001b[0mrcParams\u001b[0m\u001b[0;34m[\u001b[0m\u001b[0;34m'figure.figsize'\u001b[0m\u001b[0;34m]\u001b[0m \u001b[0;34m=\u001b[0m \u001b[0;36m15\u001b[0m\u001b[0;34m,\u001b[0m\u001b[0;36m8\u001b[0m\u001b[0;34m\u001b[0m\u001b[0;34m\u001b[0m\u001b[0m\n\u001b[0;32m----> 3\u001b[0;31m \u001b[0mwordcloud\u001b[0m \u001b[0;34m=\u001b[0m \u001b[0mWordCloud\u001b[0m\u001b[0;34m(\u001b[0m\u001b[0mfont_path\u001b[0m\u001b[0;34m=\u001b[0m\u001b[0;34m'jav-py/jp.otf'\u001b[0m\u001b[0;34m,\u001b[0m \u001b[0mmax_words\u001b[0m\u001b[0;34m=\u001b[0m\u001b[0;36m200\u001b[0m\u001b[0;34m,\u001b[0m \u001b[0mmax_font_size\u001b[0m\u001b[0;34m=\u001b[0m\u001b[0;36m40\u001b[0m\u001b[0;34m,\u001b[0m \u001b[0mscale\u001b[0m\u001b[0;34m=\u001b[0m\u001b[0;36m3\u001b[0m\u001b[0;34m)\u001b[0m\u001b[0;34m.\u001b[0m\u001b[0mgerenate\u001b[0m\u001b[0;34m(\u001b[0m\u001b[0mhobby_txt\u001b[0m\u001b[0;34m)\u001b[0m\u001b[0;34m\u001b[0m\u001b[0;34m\u001b[0m\u001b[0m\n\u001b[0m",
            "\u001b[0;31mAttributeError\u001b[0m: 'WordCloud' object has no attribute 'gerenate'"
          ]
        }
      ]
    },
    {
      "cell_type": "code",
      "metadata": {
        "colab": {
          "base_uri": "https://localhost:8080/",
          "height": 810
        },
        "id": "axrI_XzyU8jj",
        "outputId": "e25f3230-8f0d-46a1-f4a7-84ae630fdbe5"
      },
      "source": [
        "plt.imshow(wordcloud)\n",
        "plt.axis('off')\n",
        "plt.show()"
      ],
      "execution_count": null,
      "outputs": [
        {
          "output_type": "error",
          "ename": "TypeError",
          "evalue": "ignored",
          "traceback": [
            "\u001b[0;31m---------------------------------------------------------------------------\u001b[0m",
            "\u001b[0;31mTypeError\u001b[0m                                 Traceback (most recent call last)",
            "\u001b[0;32m<ipython-input-60-61dd91b630dc>\u001b[0m in \u001b[0;36m<module>\u001b[0;34m()\u001b[0m\n\u001b[0;32m----> 1\u001b[0;31m \u001b[0mplt\u001b[0m\u001b[0;34m.\u001b[0m\u001b[0mimshow\u001b[0m\u001b[0;34m(\u001b[0m\u001b[0mwordcloud\u001b[0m\u001b[0;34m)\u001b[0m\u001b[0;34m\u001b[0m\u001b[0;34m\u001b[0m\u001b[0m\n\u001b[0m\u001b[1;32m      2\u001b[0m \u001b[0mplt\u001b[0m\u001b[0;34m.\u001b[0m\u001b[0maxis\u001b[0m\u001b[0;34m(\u001b[0m\u001b[0;34m'off'\u001b[0m\u001b[0;34m)\u001b[0m\u001b[0;34m\u001b[0m\u001b[0;34m\u001b[0m\u001b[0m\n\u001b[1;32m      3\u001b[0m \u001b[0mplt\u001b[0m\u001b[0;34m.\u001b[0m\u001b[0mshow\u001b[0m\u001b[0;34m(\u001b[0m\u001b[0;34m)\u001b[0m\u001b[0;34m\u001b[0m\u001b[0;34m\u001b[0m\u001b[0m\n",
            "\u001b[0;32m/usr/local/lib/python3.7/dist-packages/matplotlib/pyplot.py\u001b[0m in \u001b[0;36mimshow\u001b[0;34m(X, cmap, norm, aspect, interpolation, alpha, vmin, vmax, origin, extent, shape, filternorm, filterrad, imlim, resample, url, data, **kwargs)\u001b[0m\n\u001b[1;32m   2649\u001b[0m         \u001b[0mfilternorm\u001b[0m\u001b[0;34m=\u001b[0m\u001b[0mfilternorm\u001b[0m\u001b[0;34m,\u001b[0m \u001b[0mfilterrad\u001b[0m\u001b[0;34m=\u001b[0m\u001b[0mfilterrad\u001b[0m\u001b[0;34m,\u001b[0m \u001b[0mimlim\u001b[0m\u001b[0;34m=\u001b[0m\u001b[0mimlim\u001b[0m\u001b[0;34m,\u001b[0m\u001b[0;34m\u001b[0m\u001b[0;34m\u001b[0m\u001b[0m\n\u001b[1;32m   2650\u001b[0m         resample=resample, url=url, **({\"data\": data} if data is not\n\u001b[0;32m-> 2651\u001b[0;31m         None else {}), **kwargs)\n\u001b[0m\u001b[1;32m   2652\u001b[0m     \u001b[0msci\u001b[0m\u001b[0;34m(\u001b[0m\u001b[0m__ret\u001b[0m\u001b[0;34m)\u001b[0m\u001b[0;34m\u001b[0m\u001b[0;34m\u001b[0m\u001b[0m\n\u001b[1;32m   2653\u001b[0m     \u001b[0;32mreturn\u001b[0m \u001b[0m__ret\u001b[0m\u001b[0;34m\u001b[0m\u001b[0;34m\u001b[0m\u001b[0m\n",
            "\u001b[0;32m/usr/local/lib/python3.7/dist-packages/matplotlib/__init__.py\u001b[0m in \u001b[0;36minner\u001b[0;34m(ax, data, *args, **kwargs)\u001b[0m\n\u001b[1;32m   1563\u001b[0m     \u001b[0;32mdef\u001b[0m \u001b[0minner\u001b[0m\u001b[0;34m(\u001b[0m\u001b[0max\u001b[0m\u001b[0;34m,\u001b[0m \u001b[0;34m*\u001b[0m\u001b[0margs\u001b[0m\u001b[0;34m,\u001b[0m \u001b[0mdata\u001b[0m\u001b[0;34m=\u001b[0m\u001b[0;32mNone\u001b[0m\u001b[0;34m,\u001b[0m \u001b[0;34m**\u001b[0m\u001b[0mkwargs\u001b[0m\u001b[0;34m)\u001b[0m\u001b[0;34m:\u001b[0m\u001b[0;34m\u001b[0m\u001b[0;34m\u001b[0m\u001b[0m\n\u001b[1;32m   1564\u001b[0m         \u001b[0;32mif\u001b[0m \u001b[0mdata\u001b[0m \u001b[0;32mis\u001b[0m \u001b[0;32mNone\u001b[0m\u001b[0;34m:\u001b[0m\u001b[0;34m\u001b[0m\u001b[0;34m\u001b[0m\u001b[0m\n\u001b[0;32m-> 1565\u001b[0;31m             \u001b[0;32mreturn\u001b[0m \u001b[0mfunc\u001b[0m\u001b[0;34m(\u001b[0m\u001b[0max\u001b[0m\u001b[0;34m,\u001b[0m \u001b[0;34m*\u001b[0m\u001b[0mmap\u001b[0m\u001b[0;34m(\u001b[0m\u001b[0msanitize_sequence\u001b[0m\u001b[0;34m,\u001b[0m \u001b[0margs\u001b[0m\u001b[0;34m)\u001b[0m\u001b[0;34m,\u001b[0m \u001b[0;34m**\u001b[0m\u001b[0mkwargs\u001b[0m\u001b[0;34m)\u001b[0m\u001b[0;34m\u001b[0m\u001b[0;34m\u001b[0m\u001b[0m\n\u001b[0m\u001b[1;32m   1566\u001b[0m \u001b[0;34m\u001b[0m\u001b[0m\n\u001b[1;32m   1567\u001b[0m         \u001b[0mbound\u001b[0m \u001b[0;34m=\u001b[0m \u001b[0mnew_sig\u001b[0m\u001b[0;34m.\u001b[0m\u001b[0mbind\u001b[0m\u001b[0;34m(\u001b[0m\u001b[0max\u001b[0m\u001b[0;34m,\u001b[0m \u001b[0;34m*\u001b[0m\u001b[0margs\u001b[0m\u001b[0;34m,\u001b[0m \u001b[0;34m**\u001b[0m\u001b[0mkwargs\u001b[0m\u001b[0;34m)\u001b[0m\u001b[0;34m\u001b[0m\u001b[0;34m\u001b[0m\u001b[0m\n",
            "\u001b[0;32m/usr/local/lib/python3.7/dist-packages/matplotlib/cbook/deprecation.py\u001b[0m in \u001b[0;36mwrapper\u001b[0;34m(*args, **kwargs)\u001b[0m\n\u001b[1;32m    356\u001b[0m                 \u001b[0;34mf\"%(removal)s.  If any parameter follows {name!r}, they \"\u001b[0m\u001b[0;34m\u001b[0m\u001b[0;34m\u001b[0m\u001b[0m\n\u001b[1;32m    357\u001b[0m                 f\"should be pass as keyword, not positionally.\")\n\u001b[0;32m--> 358\u001b[0;31m         \u001b[0;32mreturn\u001b[0m \u001b[0mfunc\u001b[0m\u001b[0;34m(\u001b[0m\u001b[0;34m*\u001b[0m\u001b[0margs\u001b[0m\u001b[0;34m,\u001b[0m \u001b[0;34m**\u001b[0m\u001b[0mkwargs\u001b[0m\u001b[0;34m)\u001b[0m\u001b[0;34m\u001b[0m\u001b[0;34m\u001b[0m\u001b[0m\n\u001b[0m\u001b[1;32m    359\u001b[0m \u001b[0;34m\u001b[0m\u001b[0m\n\u001b[1;32m    360\u001b[0m     \u001b[0;32mreturn\u001b[0m \u001b[0mwrapper\u001b[0m\u001b[0;34m\u001b[0m\u001b[0;34m\u001b[0m\u001b[0m\n",
            "\u001b[0;32m/usr/local/lib/python3.7/dist-packages/matplotlib/cbook/deprecation.py\u001b[0m in \u001b[0;36mwrapper\u001b[0;34m(*args, **kwargs)\u001b[0m\n\u001b[1;32m    356\u001b[0m                 \u001b[0;34mf\"%(removal)s.  If any parameter follows {name!r}, they \"\u001b[0m\u001b[0;34m\u001b[0m\u001b[0;34m\u001b[0m\u001b[0m\n\u001b[1;32m    357\u001b[0m                 f\"should be pass as keyword, not positionally.\")\n\u001b[0;32m--> 358\u001b[0;31m         \u001b[0;32mreturn\u001b[0m \u001b[0mfunc\u001b[0m\u001b[0;34m(\u001b[0m\u001b[0;34m*\u001b[0m\u001b[0margs\u001b[0m\u001b[0;34m,\u001b[0m \u001b[0;34m**\u001b[0m\u001b[0mkwargs\u001b[0m\u001b[0;34m)\u001b[0m\u001b[0;34m\u001b[0m\u001b[0;34m\u001b[0m\u001b[0m\n\u001b[0m\u001b[1;32m    359\u001b[0m \u001b[0;34m\u001b[0m\u001b[0m\n\u001b[1;32m    360\u001b[0m     \u001b[0;32mreturn\u001b[0m \u001b[0mwrapper\u001b[0m\u001b[0;34m\u001b[0m\u001b[0;34m\u001b[0m\u001b[0m\n",
            "\u001b[0;32m/usr/local/lib/python3.7/dist-packages/matplotlib/axes/_axes.py\u001b[0m in \u001b[0;36mimshow\u001b[0;34m(self, X, cmap, norm, aspect, interpolation, alpha, vmin, vmax, origin, extent, shape, filternorm, filterrad, imlim, resample, url, **kwargs)\u001b[0m\n\u001b[1;32m   5624\u001b[0m                               resample=resample, **kwargs)\n\u001b[1;32m   5625\u001b[0m \u001b[0;34m\u001b[0m\u001b[0m\n\u001b[0;32m-> 5626\u001b[0;31m         \u001b[0mim\u001b[0m\u001b[0;34m.\u001b[0m\u001b[0mset_data\u001b[0m\u001b[0;34m(\u001b[0m\u001b[0mX\u001b[0m\u001b[0;34m)\u001b[0m\u001b[0;34m\u001b[0m\u001b[0;34m\u001b[0m\u001b[0m\n\u001b[0m\u001b[1;32m   5627\u001b[0m         \u001b[0mim\u001b[0m\u001b[0;34m.\u001b[0m\u001b[0mset_alpha\u001b[0m\u001b[0;34m(\u001b[0m\u001b[0malpha\u001b[0m\u001b[0;34m)\u001b[0m\u001b[0;34m\u001b[0m\u001b[0;34m\u001b[0m\u001b[0m\n\u001b[1;32m   5628\u001b[0m         \u001b[0;32mif\u001b[0m \u001b[0mim\u001b[0m\u001b[0;34m.\u001b[0m\u001b[0mget_clip_path\u001b[0m\u001b[0;34m(\u001b[0m\u001b[0;34m)\u001b[0m \u001b[0;32mis\u001b[0m \u001b[0;32mNone\u001b[0m\u001b[0;34m:\u001b[0m\u001b[0;34m\u001b[0m\u001b[0;34m\u001b[0m\u001b[0m\n",
            "\u001b[0;32m/usr/local/lib/python3.7/dist-packages/matplotlib/image.py\u001b[0m in \u001b[0;36mset_data\u001b[0;34m(self, A)\u001b[0m\n\u001b[1;32m    692\u001b[0m                 not np.can_cast(self._A.dtype, float, \"same_kind\")):\n\u001b[1;32m    693\u001b[0m             raise TypeError(\"Image data of dtype {} cannot be converted to \"\n\u001b[0;32m--> 694\u001b[0;31m                             \"float\".format(self._A.dtype))\n\u001b[0m\u001b[1;32m    695\u001b[0m \u001b[0;34m\u001b[0m\u001b[0m\n\u001b[1;32m    696\u001b[0m         if not (self._A.ndim == 2\n",
            "\u001b[0;31mTypeError\u001b[0m: Image data of dtype object cannot be converted to float"
          ]
        },
        {
          "output_type": "display_data",
          "data": {
            "image/png": "[encoded data removed]",
            "text/plain": [
              "<Figure size 1080x576 with 1 Axes>"
            ]
          },
          "metadata": {
            "tags": [],
            "needs_background": "light"
          }
        }
      ]
    },
    {
      "cell_type": "code",
      "metadata": {
        "id": "UOMLJUC1dxfS"
      },
      "source": [
        "from google.colab import drive\n",
        "drive.mount('/content/drive')"
      ],
      "execution_count": null,
      "outputs": []
    }
  ]
}